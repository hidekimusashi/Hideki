{
  "nbformat": 4,
  "nbformat_minor": 0,
  "metadata": {
    "colab": {
      "name": "PrimeiraAulaJornada.ipynb",
      "provenance": [],
      "collapsed_sections": [],
      "authorship_tag": "ABX9TyNBumMyAya/TTH+KOzJREL+",
      "include_colab_link": true
    },
    "kernelspec": {
      "name": "python3",
      "display_name": "Python 3"
    }
  },
  "cells": [
    {
      "cell_type": "markdown",
      "metadata": {
        "id": "view-in-github",
        "colab_type": "text"
      },
      "source": [
        "<a href=\"https://colab.research.google.com/github/hidekimusashi/Hideki/blob/master/PrimeiraAulaJornada.ipynb\" target=\"_parent\"><img src=\"https://colab.research.google.com/assets/colab-badge.svg\" alt=\"Open In Colab\"/></a>"
      ]
    },
    {
      "cell_type": "code",
      "metadata": {
        "id": "mMfHh9x4MT77"
      },
      "source": [
        "idade = 34\r\n",
        "nome_completo = 'Sidney Hideki Harada'\r\n"
      ],
      "execution_count": null,
      "outputs": []
    },
    {
      "cell_type": "code",
      "metadata": {
        "colab": {
          "base_uri": "https://localhost:8080/"
        },
        "id": "gBbbBxi3N4Bz",
        "outputId": "95ef1d71-aa8a-444f-8aa3-a9675e20b648"
      },
      "source": [
        "idade\r\n"
      ],
      "execution_count": null,
      "outputs": [
        {
          "output_type": "execute_result",
          "data": {
            "text/plain": [
              "34"
            ]
          },
          "metadata": {
            "tags": []
          },
          "execution_count": 10
        }
      ]
    },
    {
      "cell_type": "code",
      "metadata": {
        "colab": {
          "base_uri": "https://localhost:8080/",
          "height": 35
        },
        "id": "qDVVEL9jN6mG",
        "outputId": "1d6e50df-e118-4856-fae6-97bfb195656b"
      },
      "source": [
        "nome_completo"
      ],
      "execution_count": null,
      "outputs": [
        {
          "output_type": "execute_result",
          "data": {
            "application/vnd.google.colaboratory.intrinsic+json": {
              "type": "string"
            },
            "text/plain": [
              "'Sidney Hideki Harada'"
            ]
          },
          "metadata": {
            "tags": []
          },
          "execution_count": 11
        }
      ]
    },
    {
      "cell_type": "code",
      "metadata": {
        "id": "26iLzInYOEKl"
      },
      "source": [
        "ano = 2021"
      ],
      "execution_count": null,
      "outputs": []
    },
    {
      "cell_type": "code",
      "metadata": {
        "id": "56CfmUVJOIU0"
      },
      "source": [
        "ano = 2022\r\n",
        "idade = 35"
      ],
      "execution_count": null,
      "outputs": []
    },
    {
      "cell_type": "code",
      "metadata": {
        "colab": {
          "base_uri": "https://localhost:8080/"
        },
        "id": "dJxSjDG5ORAD",
        "outputId": "a81793f4-7154-411a-e1da-dc52490f5d28"
      },
      "source": [
        "ano"
      ],
      "execution_count": null,
      "outputs": [
        {
          "output_type": "execute_result",
          "data": {
            "text/plain": [
              "2022"
            ]
          },
          "metadata": {
            "tags": []
          },
          "execution_count": 16
        }
      ]
    },
    {
      "cell_type": "code",
      "metadata": {
        "colab": {
          "base_uri": "https://localhost:8080/"
        },
        "id": "scWA3qpGOUdR",
        "outputId": "98e64d64-22b7-478e-f803-8c81c6858159"
      },
      "source": [
        "idade"
      ],
      "execution_count": null,
      "outputs": [
        {
          "output_type": "execute_result",
          "data": {
            "text/plain": [
              "35"
            ]
          },
          "metadata": {
            "tags": []
          },
          "execution_count": 17
        }
      ]
    },
    {
      "cell_type": "code",
      "metadata": {
        "id": "HsRWV2LYOsTc"
      },
      "source": [
        "numero = 13"
      ],
      "execution_count": null,
      "outputs": []
    },
    {
      "cell_type": "code",
      "metadata": {
        "id": "TiNshqq7OvBV"
      },
      "source": [
        "numero_favorito = numero"
      ],
      "execution_count": null,
      "outputs": []
    },
    {
      "cell_type": "code",
      "metadata": {
        "colab": {
          "base_uri": "https://localhost:8080/"
        },
        "id": "kNl7qHghOzm6",
        "outputId": "dc8c7b20-6508-4dee-d412-41039192b145"
      },
      "source": [
        "#@title\n",
        "numero_favorito"
      ],
      "execution_count": null,
      "outputs": [
        {
          "output_type": "execute_result",
          "data": {
            "text/plain": [
              "13"
            ]
          },
          "metadata": {
            "tags": []
          },
          "execution_count": 26
        }
      ]
    },
    {
      "cell_type": "code",
      "metadata": {
        "id": "BO1evUq2O5mX"
      },
      "source": [
        "nome_completo = 'Sidney Hideki Harada'"
      ],
      "execution_count": 3,
      "outputs": []
    },
    {
      "cell_type": "code",
      "metadata": {
        "id": "2v0qJMwIqPMd"
      },
      "source": [
        "codigo = 1"
      ],
      "execution_count": 2,
      "outputs": []
    },
    {
      "cell_type": "code",
      "metadata": {
        "id": "4T1NLmpzqRx_"
      },
      "source": [
        "idade = 34\r\n",
        "nome = 'Sidney Hideki Harada'"
      ],
      "execution_count": 10,
      "outputs": []
    },
    {
      "cell_type": "code",
      "metadata": {
        "id": "Q0exzZEkqeNF"
      },
      "source": [
        "inteiro = 10\r\n",
        "decimal = 10.5\r\n",
        "\r\n",
        "texto = 'Sidney Hideki Harada'\r\n",
        "booleano = False\r\n"
      ],
      "execution_count": 13,
      "outputs": []
    },
    {
      "cell_type": "code",
      "metadata": {
        "colab": {
          "base_uri": "https://localhost:8080/"
        },
        "id": "O5wwimEHrkSV",
        "outputId": "c486e66a-90cf-48cf-bcca-e9eee9e14e64"
      },
      "source": [
        "type(inteiro)\r\n",
        "int"
      ],
      "execution_count": 14,
      "outputs": [
        {
          "output_type": "execute_result",
          "data": {
            "text/plain": [
              "int"
            ]
          },
          "metadata": {
            "tags": []
          },
          "execution_count": 14
        }
      ]
    },
    {
      "cell_type": "code",
      "metadata": {
        "colab": {
          "base_uri": "https://localhost:8080/"
        },
        "id": "eVmNLIm8r-70",
        "outputId": "6319a8ef-fa8d-4e6f-89ff-c9bf7bb4a59a"
      },
      "source": [
        "type(decimal)\r\n"
      ],
      "execution_count": 15,
      "outputs": [
        {
          "output_type": "execute_result",
          "data": {
            "text/plain": [
              "float"
            ]
          },
          "metadata": {
            "tags": []
          },
          "execution_count": 15
        }
      ]
    },
    {
      "cell_type": "code",
      "metadata": {
        "colab": {
          "base_uri": "https://localhost:8080/"
        },
        "id": "N82bVBfbsBqP",
        "outputId": "c6e1d8a3-195b-4969-a50b-ea6ddadfaa03"
      },
      "source": [
        "type(texto)\r\n",
        "str"
      ],
      "execution_count": 16,
      "outputs": [
        {
          "output_type": "execute_result",
          "data": {
            "text/plain": [
              "str"
            ]
          },
          "metadata": {
            "tags": []
          },
          "execution_count": 16
        }
      ]
    },
    {
      "cell_type": "code",
      "metadata": {
        "colab": {
          "base_uri": "https://localhost:8080/"
        },
        "id": "UrqOn8kksGOI",
        "outputId": "82124989-36d4-40fb-a9a3-e83cb31c3072"
      },
      "source": [
        "type(booleano)\r\n",
        "\r\n"
      ],
      "execution_count": 17,
      "outputs": [
        {
          "output_type": "execute_result",
          "data": {
            "text/plain": [
              "bool"
            ]
          },
          "metadata": {
            "tags": []
          },
          "execution_count": 17
        }
      ]
    },
    {
      "cell_type": "code",
      "metadata": {
        "colab": {
          "base_uri": "https://localhost:8080/"
        },
        "id": "Wg4kbpjlsXRf",
        "outputId": "01514c5c-6591-424f-d049-1825f3887e12"
      },
      "source": [
        "23 + 10\r\n"
      ],
      "execution_count": 18,
      "outputs": [
        {
          "output_type": "execute_result",
          "data": {
            "text/plain": [
              "33"
            ]
          },
          "metadata": {
            "tags": []
          },
          "execution_count": 18
        }
      ]
    },
    {
      "cell_type": "code",
      "metadata": {
        "colab": {
          "base_uri": "https://localhost:8080/",
          "height": 35
        },
        "id": "ks9k6DSpwv3o",
        "outputId": "69a1cd55-c3bf-4d51-88ec-74a59e59dc1a"
      },
      "source": [
        "'23' + '10'"
      ],
      "execution_count": 19,
      "outputs": [
        {
          "output_type": "execute_result",
          "data": {
            "application/vnd.google.colaboratory.intrinsic+json": {
              "type": "string"
            },
            "text/plain": [
              "'2310'"
            ]
          },
          "metadata": {
            "tags": []
          },
          "execution_count": 19
        }
      ]
    },
    {
      "cell_type": "code",
      "metadata": {
        "id": "btXGyiCOw0CD"
      },
      "source": [
        "nome = 'Sidney Hideki Harada'"
      ],
      "execution_count": 22,
      "outputs": []
    },
    {
      "cell_type": "code",
      "metadata": {
        "colab": {
          "base_uri": "https://localhost:8080/"
        },
        "id": "DeIQ9XjOxNjJ",
        "outputId": "2040be09-329b-45f0-de23-4ecf4e70b524"
      },
      "source": [
        "type(gato)"
      ],
      "execution_count": 24,
      "outputs": [
        {
          "output_type": "execute_result",
          "data": {
            "text/plain": [
              "str"
            ]
          },
          "metadata": {
            "tags": []
          },
          "execution_count": 24
        }
      ]
    },
    {
      "cell_type": "code",
      "metadata": {
        "id": "gZjHwxw-yGoq"
      },
      "source": [
        "gato = 'animal de estimação'"
      ],
      "execution_count": 23,
      "outputs": []
    },
    {
      "cell_type": "code",
      "metadata": {
        "id": "Wp7WraG2yONf"
      },
      "source": [
        "ano = 2021\r\n",
        "idade = '34'"
      ],
      "execution_count": 25,
      "outputs": []
    },
    {
      "cell_type": "code",
      "metadata": {
        "colab": {
          "base_uri": "https://localhost:8080/"
        },
        "id": "-7cohwLiyxv1",
        "outputId": "182c57d3-9968-49a4-e378-e76898dd9a18"
      },
      "source": [
        "type(ano)\r\n"
      ],
      "execution_count": 31,
      "outputs": [
        {
          "output_type": "execute_result",
          "data": {
            "text/plain": [
              "str"
            ]
          },
          "metadata": {
            "tags": []
          },
          "execution_count": 31
        }
      ]
    },
    {
      "cell_type": "code",
      "metadata": {
        "colab": {
          "base_uri": "https://localhost:8080/"
        },
        "id": "yOBmIouFyzcW",
        "outputId": "df85888c-b168-4c54-971c-a0d06b6f6022"
      },
      "source": [
        "type(idade)"
      ],
      "execution_count": 29,
      "outputs": [
        {
          "output_type": "execute_result",
          "data": {
            "text/plain": [
              "int"
            ]
          },
          "metadata": {
            "tags": []
          },
          "execution_count": 29
        }
      ]
    },
    {
      "cell_type": "code",
      "metadata": {
        "id": "8tkuRCgry1pM"
      },
      "source": [
        "idade = int(idade)"
      ],
      "execution_count": 28,
      "outputs": []
    },
    {
      "cell_type": "code",
      "metadata": {
        "id": "Gkh2ZJfgy8f3"
      },
      "source": [
        "ano = str(ano)"
      ],
      "execution_count": 30,
      "outputs": []
    },
    {
      "cell_type": "code",
      "metadata": {
        "id": "GMLLPigzzByg"
      },
      "source": [
        "peso = 85"
      ],
      "execution_count": 32,
      "outputs": []
    },
    {
      "cell_type": "code",
      "metadata": {
        "colab": {
          "base_uri": "https://localhost:8080/"
        },
        "id": "WBavpozVzGky",
        "outputId": "04f76f4d-7f46-4deb-e49e-53d42942a33f"
      },
      "source": [
        "type(peso)"
      ],
      "execution_count": 35,
      "outputs": [
        {
          "output_type": "execute_result",
          "data": {
            "text/plain": [
              "float"
            ]
          },
          "metadata": {
            "tags": []
          },
          "execution_count": 35
        }
      ]
    },
    {
      "cell_type": "code",
      "metadata": {
        "id": "zj94j8A3zHzq"
      },
      "source": [
        "peso = float(peso)"
      ],
      "execution_count": 34,
      "outputs": []
    },
    {
      "cell_type": "code",
      "metadata": {
        "id": "G0SaOFYGzPKa"
      },
      "source": [
        "texto_10 = '10'\r\n",
        "numero_20 = 20\r\n"
      ],
      "execution_count": 37,
      "outputs": []
    },
    {
      "cell_type": "code",
      "metadata": {
        "id": "BnyEEZPHzZH2"
      },
      "source": [
        "numero_10 = int(texto_10)\r\n",
        "texto_20 = str(numero_20)"
      ],
      "execution_count": 38,
      "outputs": []
    },
    {
      "cell_type": "code",
      "metadata": {
        "colab": {
          "base_uri": "https://localhost:8080/"
        },
        "id": "JDRD_PXhzjWj",
        "outputId": "fab31ada-aa83-4bbc-b47c-c8bb553ee51b"
      },
      "source": [
        "type(numero_10)"
      ],
      "execution_count": 39,
      "outputs": [
        {
          "output_type": "execute_result",
          "data": {
            "text/plain": [
              "int"
            ]
          },
          "metadata": {
            "tags": []
          },
          "execution_count": 39
        }
      ]
    },
    {
      "cell_type": "code",
      "metadata": {
        "colab": {
          "base_uri": "https://localhost:8080/"
        },
        "id": "h29zKE7NzmpM",
        "outputId": "0269c06d-6025-48dc-ca4f-79c5ea3d62e6"
      },
      "source": [
        "type(texto_20)"
      ],
      "execution_count": 40,
      "outputs": [
        {
          "output_type": "execute_result",
          "data": {
            "text/plain": [
              "str"
            ]
          },
          "metadata": {
            "tags": []
          },
          "execution_count": 40
        }
      ]
    },
    {
      "cell_type": "code",
      "metadata": {
        "colab": {
          "base_uri": "https://localhost:8080/"
        },
        "id": "zRU-ODwYzpBF",
        "outputId": "6e1a4d04-4bff-47cf-e812-21f0a7d22fa9"
      },
      "source": [
        "type(5.25)"
      ],
      "execution_count": 41,
      "outputs": [
        {
          "output_type": "execute_result",
          "data": {
            "text/plain": [
              "float"
            ]
          },
          "metadata": {
            "tags": []
          },
          "execution_count": 41
        }
      ]
    },
    {
      "cell_type": "markdown",
      "metadata": {
        "id": "VD9Ghldg0SO_"
      },
      "source": [
        "# operações matematicas"
      ]
    },
    {
      "cell_type": "code",
      "metadata": {
        "id": "KjkIxH7r0ahn"
      },
      "source": [
        "soma = 20 + 20"
      ],
      "execution_count": 42,
      "outputs": []
    },
    {
      "cell_type": "code",
      "metadata": {
        "colab": {
          "base_uri": "https://localhost:8080/"
        },
        "id": "4589Fobm0nRz",
        "outputId": "4e295391-5b93-43bc-9ea3-ec903ce3dc06"
      },
      "source": [
        "soma"
      ],
      "execution_count": 43,
      "outputs": [
        {
          "output_type": "execute_result",
          "data": {
            "text/plain": [
              "40"
            ]
          },
          "metadata": {
            "tags": []
          },
          "execution_count": 43
        }
      ]
    },
    {
      "cell_type": "code",
      "metadata": {
        "id": "HOAudYNV0pvS"
      },
      "source": [
        "subtracao = 40- 20\r\n"
      ],
      "execution_count": 44,
      "outputs": []
    },
    {
      "cell_type": "code",
      "metadata": {
        "colab": {
          "base_uri": "https://localhost:8080/"
        },
        "id": "f0QNmMla0tXp",
        "outputId": "1db9eaf1-672f-4c46-9bb1-b340c0c61cec"
      },
      "source": [
        "subtracao"
      ],
      "execution_count": 45,
      "outputs": [
        {
          "output_type": "execute_result",
          "data": {
            "text/plain": [
              "20"
            ]
          },
          "metadata": {
            "tags": []
          },
          "execution_count": 45
        }
      ]
    },
    {
      "cell_type": "code",
      "metadata": {
        "id": "lQ1p7CHu0wbt"
      },
      "source": [
        "divisao = 10 / 5 "
      ],
      "execution_count": 47,
      "outputs": []
    },
    {
      "cell_type": "code",
      "metadata": {
        "colab": {
          "base_uri": "https://localhost:8080/"
        },
        "id": "v6T2Qu390zmZ",
        "outputId": "444cd1d2-90e9-47d0-88b1-8df7376d75a5"
      },
      "source": [
        "divisao"
      ],
      "execution_count": 48,
      "outputs": [
        {
          "output_type": "execute_result",
          "data": {
            "text/plain": [
              "2.0"
            ]
          },
          "metadata": {
            "tags": []
          },
          "execution_count": 48
        }
      ]
    },
    {
      "cell_type": "code",
      "metadata": {
        "id": "6UsdQTAl032e"
      },
      "source": [
        "multiplicacao = 5 * 3"
      ],
      "execution_count": 50,
      "outputs": []
    },
    {
      "cell_type": "code",
      "metadata": {
        "colab": {
          "base_uri": "https://localhost:8080/"
        },
        "id": "mPHIJXuo07FX",
        "outputId": "fead50b1-6eb0-4444-8607-115fb8187376"
      },
      "source": [
        "multiplicacao"
      ],
      "execution_count": 51,
      "outputs": [
        {
          "output_type": "execute_result",
          "data": {
            "text/plain": [
              "15"
            ]
          },
          "metadata": {
            "tags": []
          },
          "execution_count": 51
        }
      ]
    },
    {
      "cell_type": "code",
      "metadata": {
        "colab": {
          "base_uri": "https://localhost:8080/"
        },
        "id": "cqB3FChT0_Es",
        "outputId": "26a52dac-0920-45db-c3e5-286cbb24e690"
      },
      "source": [
        "type(divisao)"
      ],
      "execution_count": 52,
      "outputs": [
        {
          "output_type": "execute_result",
          "data": {
            "text/plain": [
              "float"
            ]
          },
          "metadata": {
            "tags": []
          },
          "execution_count": 52
        }
      ]
    },
    {
      "cell_type": "code",
      "metadata": {
        "id": "tFCkTSqx1DrL"
      },
      "source": [
        "divisao = 10 / 3"
      ],
      "execution_count": 53,
      "outputs": []
    },
    {
      "cell_type": "code",
      "metadata": {
        "colab": {
          "base_uri": "https://localhost:8080/"
        },
        "id": "GcQpSUZP1KvY",
        "outputId": "f437c542-7771-4347-830e-18c323ee546d"
      },
      "source": [
        "divisao"
      ],
      "execution_count": 54,
      "outputs": [
        {
          "output_type": "execute_result",
          "data": {
            "text/plain": [
              "3.3333333333333335"
            ]
          },
          "metadata": {
            "tags": []
          },
          "execution_count": 54
        }
      ]
    },
    {
      "cell_type": "code",
      "metadata": {
        "colab": {
          "base_uri": "https://localhost:8080/"
        },
        "id": "86woOdBV1LmR",
        "outputId": "d40470dd-d260-445a-fb2d-9fcce4b419f2"
      },
      "source": [
        "int(divisao)"
      ],
      "execution_count": 55,
      "outputs": [
        {
          "output_type": "execute_result",
          "data": {
            "text/plain": [
              "3"
            ]
          },
          "metadata": {
            "tags": []
          },
          "execution_count": 55
        }
      ]
    },
    {
      "cell_type": "code",
      "metadata": {
        "id": "ingEwnPq1P2M"
      },
      "source": [
        "nome = 'Sidney'"
      ],
      "execution_count": 56,
      "outputs": []
    },
    {
      "cell_type": "code",
      "metadata": {
        "colab": {
          "base_uri": "https://localhost:8080/",
          "height": 35
        },
        "id": "QuLAfSMi1abp",
        "outputId": "388eb7f3-44eb-4d3d-d6dd-9a8da79bec13"
      },
      "source": [
        "nome"
      ],
      "execution_count": 57,
      "outputs": [
        {
          "output_type": "execute_result",
          "data": {
            "application/vnd.google.colaboratory.intrinsic+json": {
              "type": "string"
            },
            "text/plain": [
              "'Sidney'"
            ]
          },
          "metadata": {
            "tags": []
          },
          "execution_count": 57
        }
      ]
    },
    {
      "cell_type": "markdown",
      "metadata": {
        "id": "VUT8-B2F2kDY"
      },
      "source": [
        "#metodos de entrada"
      ]
    },
    {
      "cell_type": "code",
      "metadata": {
        "colab": {
          "base_uri": "https://localhost:8080/"
        },
        "id": "913kXd632qxR",
        "outputId": "764d22a5-cb9a-46d8-805b-04e1692b9d55"
      },
      "source": [
        "nome = input('Qual o seu nome?')\r\n",
        "idade = int(input('Qual a sua idade?'))"
      ],
      "execution_count": 64,
      "outputs": [
        {
          "output_type": "stream",
          "text": [
            "Qual o seu nome?Sidney Hideki Harada\n",
            "Qual a sua idade?34\n"
          ],
          "name": "stdout"
        }
      ]
    },
    {
      "cell_type": "code",
      "metadata": {
        "colab": {
          "base_uri": "https://localhost:8080/",
          "height": 35
        },
        "id": "ZaMSmAMp2175",
        "outputId": "8b1f7ba2-e9fe-4b25-8808-6bf337548fb2"
      },
      "source": [
        "nome"
      ],
      "execution_count": 60,
      "outputs": [
        {
          "output_type": "execute_result",
          "data": {
            "application/vnd.google.colaboratory.intrinsic+json": {
              "type": "string"
            },
            "text/plain": [
              "'Sidney Hideki Harada'"
            ]
          },
          "metadata": {
            "tags": []
          },
          "execution_count": 60
        }
      ]
    },
    {
      "cell_type": "code",
      "metadata": {
        "colab": {
          "base_uri": "https://localhost:8080/"
        },
        "id": "v4tuaCKm26x3",
        "outputId": "db9e7c87-155e-4467-b7d0-baac9d70e6de"
      },
      "source": [
        "idade"
      ],
      "execution_count": 65,
      "outputs": [
        {
          "output_type": "execute_result",
          "data": {
            "text/plain": [
              "34"
            ]
          },
          "metadata": {
            "tags": []
          },
          "execution_count": 65
        }
      ]
    },
    {
      "cell_type": "code",
      "metadata": {
        "id": "_Vl8x7CN27pY"
      },
      "source": [
        "idade = idade + 1"
      ],
      "execution_count": 66,
      "outputs": []
    },
    {
      "cell_type": "code",
      "metadata": {
        "colab": {
          "base_uri": "https://localhost:8080/"
        },
        "id": "KtH9fdWN2_X9",
        "outputId": "0e519deb-7d2a-4b45-948b-58ff9ce869d2"
      },
      "source": [
        "idade"
      ],
      "execution_count": 67,
      "outputs": [
        {
          "output_type": "execute_result",
          "data": {
            "text/plain": [
              "35"
            ]
          },
          "metadata": {
            "tags": []
          },
          "execution_count": 67
        }
      ]
    },
    {
      "cell_type": "code",
      "metadata": {
        "id": "FSVSLppUD0v0"
      },
      "source": [
        "numero_favorito = 10"
      ],
      "execution_count": 68,
      "outputs": []
    },
    {
      "cell_type": "code",
      "metadata": {
        "id": "OsM22DGwECbC"
      },
      "source": [
        "numero_favorito = 5"
      ],
      "execution_count": 69,
      "outputs": []
    },
    {
      "cell_type": "code",
      "metadata": {
        "id": "39hsTy-OEEIE"
      },
      "source": [
        "numero_favorito = 2\r\n"
      ],
      "execution_count": 70,
      "outputs": []
    },
    {
      "cell_type": "code",
      "metadata": {
        "id": "ktoLXug3EHyw"
      },
      "source": [
        "resto_divisao = 10 % 3"
      ],
      "execution_count": 73,
      "outputs": []
    },
    {
      "cell_type": "code",
      "metadata": {
        "colab": {
          "base_uri": "https://localhost:8080/"
        },
        "id": "JfAfE1EjEXMd",
        "outputId": "526c95ea-b457-4470-d146-35d4e2793eff"
      },
      "source": [
        "resto_divisao"
      ],
      "execution_count": 74,
      "outputs": [
        {
          "output_type": "execute_result",
          "data": {
            "text/plain": [
              "1"
            ]
          },
          "metadata": {
            "tags": []
          },
          "execution_count": 74
        }
      ]
    },
    {
      "cell_type": "code",
      "metadata": {
        "id": "ARDx6D87EZN_"
      },
      "source": [
        "divisao_inteiro = 10 // 3"
      ],
      "execution_count": 75,
      "outputs": []
    },
    {
      "cell_type": "code",
      "metadata": {
        "colab": {
          "base_uri": "https://localhost:8080/"
        },
        "id": "6r3rNuYTFiqh",
        "outputId": "5a8c5e63-5ec3-424e-ef96-d3d3988b4315"
      },
      "source": [
        "divisao_inteiro"
      ],
      "execution_count": 76,
      "outputs": [
        {
          "output_type": "execute_result",
          "data": {
            "text/plain": [
              "3"
            ]
          },
          "metadata": {
            "tags": []
          },
          "execution_count": 76
        }
      ]
    },
    {
      "cell_type": "code",
      "metadata": {
        "colab": {
          "base_uri": "https://localhost:8080/"
        },
        "id": "LFiZw33AFkOg",
        "outputId": "de87b802-633a-4f71-de87-91531f8f865a"
      },
      "source": [
        "# calculadora da bylearn\r\n",
        "# Entrada dos numeros\r\n",
        "primeiro_numero = float(input('Digite o primeiro numero: '))\r\n",
        "segundo_numero = float(input('Digite o segundo numero: '))\r\n",
        "\r\n",
        "#operações matematicas\r\n",
        "soma = primeiro_numero + segundo_numero\r\n",
        "subtracao = primeiro_numero - segundo_numero\r\n",
        "multiplicacao = primeiro_numero * segundo_numero\r\n",
        "divisao = primeiro_numero / segundo_numero\r\n",
        "\r\n"
      ],
      "execution_count": 82,
      "outputs": [
        {
          "output_type": "stream",
          "text": [
            "Digite o primeiro numero: 25\n",
            "Digite o segundo numero: 5\n"
          ],
          "name": "stdout"
        }
      ]
    },
    {
      "cell_type": "code",
      "metadata": {
        "colab": {
          "base_uri": "https://localhost:8080/"
        },
        "id": "sa9bKsEvGOJH",
        "outputId": "a23668b3-163e-4388-e50f-1e267064852e"
      },
      "source": [
        "soma"
      ],
      "execution_count": 84,
      "outputs": [
        {
          "output_type": "execute_result",
          "data": {
            "text/plain": [
              "30.0"
            ]
          },
          "metadata": {
            "tags": []
          },
          "execution_count": 84
        }
      ]
    },
    {
      "cell_type": "code",
      "metadata": {
        "colab": {
          "base_uri": "https://localhost:8080/"
        },
        "id": "M0V871w8HlBa",
        "outputId": "68232c87-6506-4a0d-e4fa-1c89aaac6d43"
      },
      "source": [
        "subtracao"
      ],
      "execution_count": 85,
      "outputs": [
        {
          "output_type": "execute_result",
          "data": {
            "text/plain": [
              "20.0"
            ]
          },
          "metadata": {
            "tags": []
          },
          "execution_count": 85
        }
      ]
    },
    {
      "cell_type": "code",
      "metadata": {
        "colab": {
          "base_uri": "https://localhost:8080/"
        },
        "id": "TbXr8e6VHwit",
        "outputId": "304eae0e-1207-4cc5-d1e6-f8fe303bdc71"
      },
      "source": [
        "multiplicacao"
      ],
      "execution_count": 86,
      "outputs": [
        {
          "output_type": "execute_result",
          "data": {
            "text/plain": [
              "125.0"
            ]
          },
          "metadata": {
            "tags": []
          },
          "execution_count": 86
        }
      ]
    },
    {
      "cell_type": "code",
      "metadata": {
        "colab": {
          "base_uri": "https://localhost:8080/"
        },
        "id": "QijyeJQIHyqw",
        "outputId": "a0bc97a0-a0c3-4f9f-f10a-08faa5a64d91"
      },
      "source": [
        "divisao"
      ],
      "execution_count": 87,
      "outputs": [
        {
          "output_type": "execute_result",
          "data": {
            "text/plain": [
              "5.0"
            ]
          },
          "metadata": {
            "tags": []
          },
          "execution_count": 87
        }
      ]
    },
    {
      "cell_type": "markdown",
      "metadata": {
        "id": "NaM4c4YbIFl-"
      },
      "source": [
        "# metodos de saida\r\n",
        "são formas do python de mostrar os dados aos usuarios\r\n",
        "Usando a função print() e enviamos a mensagem/variavel que queremos mostrar ao usuario"
      ]
    },
    {
      "cell_type": "code",
      "metadata": {
        "colab": {
          "base_uri": "https://localhost:8080/"
        },
        "id": "GzTRTcdhIXF4",
        "outputId": "2bda416d-50f1-4c5f-d920-08d3c4850435"
      },
      "source": [
        "print('O resultado é:')\r\n"
      ],
      "execution_count": 88,
      "outputs": [
        {
          "output_type": "stream",
          "text": [
            "O resultado é:\n"
          ],
          "name": "stdout"
        }
      ]
    },
    {
      "cell_type": "code",
      "metadata": {
        "colab": {
          "base_uri": "https://localhost:8080/"
        },
        "id": "8jp8dCg1IdQE",
        "outputId": "46a0e842-7d27-4925-e0ad-abde01de7961"
      },
      "source": [
        "print(divisao)\r\n"
      ],
      "execution_count": 89,
      "outputs": [
        {
          "output_type": "stream",
          "text": [
            "5.0\n"
          ],
          "name": "stdout"
        }
      ]
    },
    {
      "cell_type": "code",
      "metadata": {
        "colab": {
          "base_uri": "https://localhost:8080/"
        },
        "id": "uPwAxCbXIggY",
        "outputId": "d7e6ac76-c6f4-4243-8a79-b1e7a0e12b0d"
      },
      "source": [
        "#concatenar Strings => JUntar Strings\r\n",
        "print('O resultado é', divisao)"
      ],
      "execution_count": 90,
      "outputs": [
        {
          "output_type": "stream",
          "text": [
            "O resultado é 5.0\n"
          ],
          "name": "stdout"
        }
      ]
    },
    {
      "cell_type": "code",
      "metadata": {
        "colab": {
          "base_uri": "https://localhost:8080/"
        },
        "id": "pLowCBzZIzre",
        "outputId": "2b7f17af-a091-4f51-c8b9-68147653503b"
      },
      "source": [
        "# calculadora da bylearn\r\n",
        "# Entrada dos numeros\r\n",
        "primeiro_numero = float(input('Digite o primeiro numero: '))\r\n",
        "segundo_numero = float(input('Digite o segundo numero: '))\r\n",
        "\r\n",
        "#operações matematicas\r\n",
        "soma = primeiro_numero + segundo_numero\r\n",
        "subtracao = primeiro_numero - segundo_numero\r\n",
        "multiplicacao = primeiro_numero * segundo_numero\r\n",
        "divisao = primeiro_numero / segundo_numero\r\n",
        "\r\n",
        "#saida dos calculos\r\n",
        "print('A soma é', soma)\r\n",
        "print('A subtracao é', subtracao)\r\n",
        "print('A multiplicação é', multiplicacao)\r\n",
        "print('A divisão é', divisao)\r\n"
      ],
      "execution_count": 91,
      "outputs": [
        {
          "output_type": "stream",
          "text": [
            "Digite o primeiro numero: 25\n",
            "Digite o segundo numero: 5\n",
            "A soma é 30.0\n",
            "A subtracao é 20.0\n",
            "A multiplicação é 125.0\n",
            "A divisão é 5.0\n"
          ],
          "name": "stdout"
        }
      ]
    },
    {
      "cell_type": "code",
      "metadata": {
        "colab": {
          "base_uri": "https://localhost:8080/"
        },
        "id": "maCS87aTJXze",
        "outputId": "89b20d53-e70a-4bd1-b54f-a6ad54c89ae9"
      },
      "source": [
        "# A soma entra [25] e [5] é [30]\r\n",
        "print('A soma entre', primeiro_numero, 'e', segundo_numero, 'é', soma)"
      ],
      "execution_count": 92,
      "outputs": [
        {
          "output_type": "stream",
          "text": [
            "A soma entre 25.0 e 5.0 é 30.0\n"
          ],
          "name": "stdout"
        }
      ]
    },
    {
      "cell_type": "code",
      "metadata": {
        "colab": {
          "base_uri": "https://localhost:8080/"
        },
        "id": "UbMLvcCMJ4_d",
        "outputId": "9e524d2d-f415-4d4b-a2ef-3cd799291729"
      },
      "source": [
        "# calculadora da bylearn\r\n",
        "\r\n",
        "# Entrada dos numeros\r\n",
        "primeiro_numero = float(input('Digite o primeiro numero: '))\r\n",
        "segundo_numero = float(input('Digite o segundo numero: '))\r\n",
        "\r\n",
        "#operações matematicas\r\n",
        "soma = primeiro_numero + segundo_numero\r\n",
        "subtracao = primeiro_numero - segundo_numero\r\n",
        "multiplicacao = primeiro_numero * segundo_numero\r\n",
        "divisao = primeiro_numero / segundo_numero\r\n",
        "\r\n",
        "#Saida dos calculos\r\n",
        "print(f'A soma entre {primeiro_numero} e {segundo_numero} é {soma}!')\r\n",
        "print(f'A subtração entre {primeiro_numero} e {segundo_numero} é {subtracao}!')\r\n",
        "print(f'A multiplicação entre {primeiro_numero} e {segundo_numero} é {multiplicacao}!')\r\n",
        "print(f'A divisão entre {primeiro_numero} e {segundo_numero} é {divisao}!')"
      ],
      "execution_count": 95,
      "outputs": [
        {
          "output_type": "stream",
          "text": [
            "Digite o primeiro numero: 25\n",
            "Digite o segundo numero: 5\n",
            "A soma entre 25.0 e 5.0 é 30.0!\n",
            "A subtração entre 25.0 e 5.0 é 20.0!\n",
            "A multiplicação entre 25.0 e 5.0 é 125.0!\n",
            "A divisão entre 25.0 e 5.0 é 5.0!\n"
          ],
          "name": "stdout"
        }
      ]
    },
    {
      "cell_type": "markdown",
      "metadata": {
        "id": "xLsq8vfbNgFs"
      },
      "source": [
        "# \r\n",
        "# Listas\r\n",
        "Metodos de trabalhar com consequencias"
      ]
    },
    {
      "cell_type": "code",
      "metadata": {
        "id": "-dBNLK2MNkS7"
      },
      "source": [
        "animais = ['cachorro', 'gato', 'coelho', 'furão', 'hamster']\r\n",
        "# Posições :    1         2        3        4         5\r\n",
        "# Indices :     0         1        2        3         4\r\n"
      ],
      "execution_count": 97,
      "outputs": []
    },
    {
      "cell_type": "code",
      "metadata": {
        "colab": {
          "base_uri": "https://localhost:8080/",
          "height": 35
        },
        "id": "odE0lEhoPBtM",
        "outputId": "b9ae1399-a9b8-4268-a0e1-205484a14bd0"
      },
      "source": [
        "animais[1]"
      ],
      "execution_count": 98,
      "outputs": [
        {
          "output_type": "execute_result",
          "data": {
            "application/vnd.google.colaboratory.intrinsic+json": {
              "type": "string"
            },
            "text/plain": [
              "'gato'"
            ]
          },
          "metadata": {
            "tags": []
          },
          "execution_count": 98
        }
      ]
    },
    {
      "cell_type": "code",
      "metadata": {
        "colab": {
          "base_uri": "https://localhost:8080/",
          "height": 35
        },
        "id": "AVsE0xfdPEkW",
        "outputId": "722592c5-0b47-47d9-a0e7-339f2a5f3114"
      },
      "source": [
        "animais[3]"
      ],
      "execution_count": 99,
      "outputs": [
        {
          "output_type": "execute_result",
          "data": {
            "application/vnd.google.colaboratory.intrinsic+json": {
              "type": "string"
            },
            "text/plain": [
              "'furão'"
            ]
          },
          "metadata": {
            "tags": []
          },
          "execution_count": 99
        }
      ]
    },
    {
      "cell_type": "code",
      "metadata": {
        "colab": {
          "base_uri": "https://localhost:8080/"
        },
        "id": "6sd4XYsuPGYM",
        "outputId": "75a1a7c4-0fc3-4d5f-c462-62bd02ca5fda"
      },
      "source": [
        "print('A Shura é uma', animais [3])\r\n",
        "print('O Obi-Wan é um', animais[1])\r\n",
        "print('o Dwight é um', animais[4])"
      ],
      "execution_count": 100,
      "outputs": [
        {
          "output_type": "stream",
          "text": [
            "A Shura é uma furão\n",
            "O Obi-Wan é um gato\n",
            "o Dwight é um hamster\n"
          ],
          "name": "stdout"
        }
      ]
    },
    {
      "cell_type": "code",
      "metadata": {
        "id": "BTkKs1zGPj6L"
      },
      "source": [
        "dwight = animais[4]\r\n",
        "obiwan = animais[1]\r\n",
        "shura = animais[3]"
      ],
      "execution_count": 101,
      "outputs": []
    },
    {
      "cell_type": "code",
      "metadata": {
        "colab": {
          "base_uri": "https://localhost:8080/"
        },
        "id": "XxYdvpsXPeO1",
        "outputId": "bdbcd143-0d89-4d2e-9346-341bb7eb924f"
      },
      "source": [
        "print('A Shura é uma', shura)\r\n",
        "print('O Obi-Wan é um', obiwan)\r\n",
        "print('o Dwight é um', dwight)"
      ],
      "execution_count": 102,
      "outputs": [
        {
          "output_type": "stream",
          "text": [
            "A Shura é uma furão\n",
            "O Obi-Wan é um gato\n",
            "o Dwight é um hamster\n"
          ],
          "name": "stdout"
        }
      ]
    },
    {
      "cell_type": "code",
      "metadata": {
        "id": "TgT6ZX-6QDwp"
      },
      "source": [
        "numeros = [1 , 3 , 5, 7, 9]\r\n",
        "\r\n",
        "cinco = numeros[2]\r\n",
        "nove = numeros[4]"
      ],
      "execution_count": 107,
      "outputs": []
    },
    {
      "cell_type": "code",
      "metadata": {
        "colab": {
          "base_uri": "https://localhost:8080/"
        },
        "id": "X0CHXeRcQVsc",
        "outputId": "d2d05d31-aa17-4b1e-c01c-7a578fbc20b0"
      },
      "source": [
        "cinco"
      ],
      "execution_count": 105,
      "outputs": [
        {
          "output_type": "execute_result",
          "data": {
            "text/plain": [
              "5"
            ]
          },
          "metadata": {
            "tags": []
          },
          "execution_count": 105
        }
      ]
    },
    {
      "cell_type": "code",
      "metadata": {
        "colab": {
          "base_uri": "https://localhost:8080/"
        },
        "id": "TRvefIAaQj6I",
        "outputId": "b9a45305-68cd-42b1-e7e7-f464ec42d6e8"
      },
      "source": [
        "nove\r\n"
      ],
      "execution_count": 108,
      "outputs": [
        {
          "output_type": "execute_result",
          "data": {
            "text/plain": [
              "9"
            ]
          },
          "metadata": {
            "tags": []
          },
          "execution_count": 108
        }
      ]
    },
    {
      "cell_type": "code",
      "metadata": {
        "id": "15k5LJSvQlM8"
      },
      "source": [
        "lista_de_lista = [  ['Doctor',2] , ['Felipe',4]  , ['shura',6]    ]"
      ],
      "execution_count": 141,
      "outputs": []
    },
    {
      "cell_type": "code",
      "metadata": {
        "id": "4v27xyx-Q4ai"
      },
      "source": [
        "primeira_sublista = lista_de_lista[0]"
      ],
      "execution_count": 142,
      "outputs": []
    },
    {
      "cell_type": "code",
      "metadata": {
        "colab": {
          "base_uri": "https://localhost:8080/"
        },
        "id": "dP8wqTw8Q_on",
        "outputId": "c223bfbb-5803-48dc-bf63-758dadaefa4a"
      },
      "source": [
        "primeira_sublista"
      ],
      "execution_count": 143,
      "outputs": [
        {
          "output_type": "execute_result",
          "data": {
            "text/plain": [
              "['Doctor', 2]"
            ]
          },
          "metadata": {
            "tags": []
          },
          "execution_count": 143
        }
      ]
    },
    {
      "cell_type": "code",
      "metadata": {
        "id": "mLbOP1D4RFUl"
      },
      "source": [
        "primeiro_dado = primeira_sublista[0]"
      ],
      "execution_count": 144,
      "outputs": []
    },
    {
      "cell_type": "code",
      "metadata": {
        "colab": {
          "base_uri": "https://localhost:8080/",
          "height": 35
        },
        "id": "Vtu31VdoRc2Q",
        "outputId": "8e5793f0-deca-4648-e590-c08011f16b33"
      },
      "source": [
        "primeiro_dado"
      ],
      "execution_count": 145,
      "outputs": [
        {
          "output_type": "execute_result",
          "data": {
            "application/vnd.google.colaboratory.intrinsic+json": {
              "type": "string"
            },
            "text/plain": [
              "'Doctor'"
            ]
          },
          "metadata": {
            "tags": []
          },
          "execution_count": 145
        }
      ]
    },
    {
      "cell_type": "code",
      "metadata": {
        "id": "neKIIzlwSAyO"
      },
      "source": [
        "segundo_dado = lista_de_lista[0][1]"
      ],
      "execution_count": 146,
      "outputs": []
    },
    {
      "cell_type": "code",
      "metadata": {
        "colab": {
          "base_uri": "https://localhost:8080/"
        },
        "id": "8eSYlL9eRmhu",
        "outputId": "a8073948-5774-4f51-bcc6-ffd9c13a3a2e"
      },
      "source": [
        "segundo_dado"
      ],
      "execution_count": 147,
      "outputs": [
        {
          "output_type": "execute_result",
          "data": {
            "text/plain": [
              "2"
            ]
          },
          "metadata": {
            "tags": []
          },
          "execution_count": 147
        }
      ]
    },
    {
      "cell_type": "code",
      "metadata": {
        "id": "jNLKs_uUSIxF"
      },
      "source": [
        "lista_vazia = []"
      ],
      "execution_count": 148,
      "outputs": []
    },
    {
      "cell_type": "code",
      "metadata": {
        "id": "uavaYtzdShfB"
      },
      "source": [
        "lista_vazia.append('Felipe')"
      ],
      "execution_count": 149,
      "outputs": []
    },
    {
      "cell_type": "code",
      "metadata": {
        "id": "i_cCcBdtSmJy"
      },
      "source": [
        "lista_vazia.append(34)"
      ],
      "execution_count": 150,
      "outputs": []
    },
    {
      "cell_type": "code",
      "metadata": {
        "id": "LtLbHrdzSsHx"
      },
      "source": [
        "lista_vazia.append(11)\r\n"
      ],
      "execution_count": 151,
      "outputs": []
    },
    {
      "cell_type": "code",
      "metadata": {
        "id": "e80sm8hTSujm"
      },
      "source": [
        "lista_vazia.append('ByLearn')"
      ],
      "execution_count": 152,
      "outputs": []
    },
    {
      "cell_type": "code",
      "metadata": {
        "colab": {
          "base_uri": "https://localhost:8080/"
        },
        "id": "-M0WkbuhSyiY",
        "outputId": "5d090963-de29-4996-e8be-07dac6856bfd"
      },
      "source": [
        "lista_vazia"
      ],
      "execution_count": 153,
      "outputs": [
        {
          "output_type": "execute_result",
          "data": {
            "text/plain": [
              "['Felipe', 34, 11, 'ByLearn']"
            ]
          },
          "metadata": {
            "tags": []
          },
          "execution_count": 153
        }
      ]
    },
    {
      "cell_type": "code",
      "metadata": {
        "colab": {
          "base_uri": "https://localhost:8080/"
        },
        "id": "yAvh-AkxS0G0",
        "outputId": "d240ae74-bc85-4e44-a805-e3d0b57cef0b"
      },
      "source": [
        "print(f'0 {lista_vazia[0]} tem {lista_vazia[1]} anos, possui {lista_vazia[2]} gatos e é professor na {lista_vazia[3]}')"
      ],
      "execution_count": 154,
      "outputs": [
        {
          "output_type": "stream",
          "text": [
            "0 Felipe tem 34 anos, possui 11 gatos e é professor na ByLearn\n"
          ],
          "name": "stdout"
        }
      ]
    },
    {
      "cell_type": "code",
      "metadata": {
        "id": "uAsZ8ttQTTYM"
      },
      "source": [
        ""
      ],
      "execution_count": null,
      "outputs": []
    }
  ]
}