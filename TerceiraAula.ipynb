{
  "nbformat": 4,
  "nbformat_minor": 0,
  "metadata": {
    "colab": {
      "name": "TerceiraAula.ipynb",
      "provenance": [],
      "collapsed_sections": [],
      "authorship_tag": "ABX9TyOIk53nQIz7jTHyRdOOmuch",
      "include_colab_link": true
    },
    "kernelspec": {
      "name": "python3",
      "display_name": "Python 3"
    }
  },
  "cells": [
    {
      "cell_type": "markdown",
      "metadata": {
        "id": "view-in-github",
        "colab_type": "text"
      },
      "source": [
        "<a href=\"https://colab.research.google.com/github/hidekimusashi/Hideki/blob/master/TerceiraAula.ipynb\" target=\"_parent\"><img src=\"https://colab.research.google.com/assets/colab-badge.svg\" alt=\"Open In Colab\"/></a>"
      ]
    },
    {
      "cell_type": "markdown",
      "metadata": {
        "id": "ZuITqatoSFFp"
      },
      "source": [
        "# **Condicionais**\r\n",
        "Principal fomra de atribuir uma lógica ao nosso codigo\r\n",
        "\r\n",
        "Só executa códigos que corresponderem a condição especificada.\r\n",
        "\r\n",
        "Ex:\r\n",
        "\r\n",
        "Se estiver quente\r\n",
        "*Tomar sorvete\r\n",
        "*Vamos para a Praia\r\n",
        "\r\n",
        "Se estiver frio\r\n",
        "*Comer chocolate\r\n",
        "*vamos ao cinema\r\n",
        "\r\n",
        "\r\n",
        "\r\n"
      ]
    },
    {
      "cell_type": "code",
      "metadata": {
        "colab": {
          "base_uri": "https://localhost:8080/"
        },
        "id": "4hhEUleVR5ZT",
        "outputId": "25e83f55-4091-4fee-ec24-ea7dabb482ee"
      },
      "source": [
        "temperatura = 'quente'\r\n",
        "if temperatura =='quente':\r\n",
        "    print('Vamos tomar sorvete de chocolate')\r\n",
        "    print('Vamos para a praia')\r\n",
        "else:\r\n",
        "  print('Vamos comer chocolate')\r\n",
        "  print('Vamos ao cinema')"
      ],
      "execution_count": 1,
      "outputs": [
        {
          "output_type": "stream",
          "text": [
            "Vamos tomar sorvete de chocolate\n",
            "Vamos para a praia\n"
          ],
          "name": "stdout"
        }
      ]
    },
    {
      "cell_type": "code",
      "metadata": {
        "colab": {
          "base_uri": "https://localhost:8080/"
        },
        "id": "Gw_nKFWaU0pq",
        "outputId": "797a789c-dc8b-476a-ec41-6ebf7d53f4a1"
      },
      "source": [
        "numero = 20\r\n",
        "\r\n",
        "if numero >= 20:\r\n",
        "    print('É um numero grande')\r\n",
        "else:\r\n",
        "    print('Não é um numero grande')   "
      ],
      "execution_count": 2,
      "outputs": [
        {
          "output_type": "stream",
          "text": [
            "É um numero grande\n"
          ],
          "name": "stdout"
        }
      ]
    },
    {
      "cell_type": "code",
      "metadata": {
        "colab": {
          "base_uri": "https://localhost:8080/"
        },
        "id": "PC5WCCDsVyFw",
        "outputId": "e437e8ec-15a8-41c4-8d85-fd14f7c7ef4a"
      },
      "source": [
        "nome = 'paulo'\r\n",
        "if nome != 'felipe':\r\n",
        "    print('cade o felipe')\r\n",
        "elif nome == 'felipe':\r\n",
        "    print('É o felipe')"
      ],
      "execution_count": 3,
      "outputs": [
        {
          "output_type": "stream",
          "text": [
            "cade o felipe\n"
          ],
          "name": "stdout"
        }
      ]
    },
    {
      "cell_type": "code",
      "metadata": {
        "colab": {
          "base_uri": "https://localhost:8080/"
        },
        "id": "7y1ooSUGWtH6",
        "outputId": "154cfcfa-8083-4647-bdc7-e40d8ec6cd38"
      },
      "source": [
        "#1, 3, 5\r\n",
        "\r\n",
        "numero = 7\r\n",
        "\r\n",
        "if numero == 1:\r\n",
        "    print('Você ganhou')\r\n",
        "elif numero == 3:\r\n",
        "    print('Você ganhou')\r\n",
        "elif numero == 5:\r\n",
        "    print('Você ganhou')\r\n",
        "else:\r\n",
        "    print('Você perdeu')        "
      ],
      "execution_count": 4,
      "outputs": [
        {
          "output_type": "stream",
          "text": [
            "Você perdeu\n"
          ],
          "name": "stdout"
        }
      ]
    },
    {
      "cell_type": "code",
      "metadata": {
        "colab": {
          "base_uri": "https://localhost:8080/"
        },
        "id": "uIOLfVK1XtgF",
        "outputId": "2c726e4c-939d-48f5-b591-685300f780fb"
      },
      "source": [
        "nome = 'felipe'\r\n",
        "sobrenome = 'santos'\r\n",
        "\r\n",
        "if nome == 'felipe':\r\n",
        "  if sobrenome =='cabrera':\r\n",
        "    print('É o felipe cabrera!')\r\n",
        "  else:\r\n",
        "    print('É outro felipe!')     \r\n",
        "else:\r\n",
        "    print('Não é o felipe cabrera!')"
      ],
      "execution_count": 5,
      "outputs": [
        {
          "output_type": "stream",
          "text": [
            "É outro felipe!\n"
          ],
          "name": "stdout"
        }
      ]
    },
    {
      "cell_type": "code",
      "metadata": {
        "colab": {
          "base_uri": "https://localhost:8080/"
        },
        "id": "3ZIrUHUCZJh7",
        "outputId": "2c922512-8bf9-44cc-a870-c62d1768e15f"
      },
      "source": [
        "#1, 3, 5, 7, 9\r\n",
        "\r\n",
        "numero = 7\r\n",
        "\r\n",
        "if numero == 1:\r\n",
        "    print('Você ganhou')\r\n",
        "elif numero == 3:\r\n",
        "    print('Você ganhou')\r\n",
        "elif numero == 5:\r\n",
        "    print('Você ganhou')\r\n",
        "else:\r\n",
        "    print('Você perdeu')        "
      ],
      "execution_count": 6,
      "outputs": [
        {
          "output_type": "stream",
          "text": [
            "Você perdeu\n"
          ],
          "name": "stdout"
        }
      ]
    },
    {
      "cell_type": "code",
      "metadata": {
        "colab": {
          "base_uri": "https://localhost:8080/"
        },
        "id": "A3e6iIrBmB3V",
        "outputId": "2b6ece4f-cccc-415a-a676-15446045d792"
      },
      "source": [
        "nome = 'felipe'\r\n",
        "sobrenome = 'cabrera'\r\n",
        "idade = 24\r\n",
        "\r\n",
        "if nome == 'felipe':\r\n",
        "  if sobrenome =='cabrera':\r\n",
        "      if idade == 24:\r\n",
        "          print('É o felipe cabrera da bylearn!')\r\n",
        "      else:\r\n",
        "          print('É outro felipe cabrera')    \r\n",
        "  else:\r\n",
        "          print('É outro felipe!')     \r\n",
        "else:\r\n",
        "    print('Não é o felipe cabrera!')"
      ],
      "execution_count": 7,
      "outputs": [
        {
          "output_type": "stream",
          "text": [
            "É o felipe cabrera da bylearn!\n"
          ],
          "name": "stdout"
        }
      ]
    },
    {
      "cell_type": "markdown",
      "metadata": {
        "id": "1DkR2_0voAwS"
      },
      "source": [
        "# Operadores logicos\r\n",
        "\r\n",
        "Servem para utilizar condições compostas.\r\n",
        "\r\n",
        "Uma condição e (**and**) outra condição\r\n",
        "Uma condição e OU (**OR**) outra condição\r\n",
        "\r\n"
      ]
    },
    {
      "cell_type": "code",
      "metadata": {
        "colab": {
          "base_uri": "https://localhost:8080/"
        },
        "id": "XQrD_-33mbRh",
        "outputId": "8e5ca3b7-c60a-490c-fb1d-6e76273dc51b"
      },
      "source": [
        "#1, 3, 5,\r\n",
        "\r\n",
        "numero = 7\r\n",
        "\r\n",
        "if numero == 1 or numero == 3 or numero == 5 or numero == 7 or numero == 9:\r\n",
        "    print('Você ganhou!')\r\n",
        "else: \r\n",
        "    print('Você perdeu!')"
      ],
      "execution_count": 8,
      "outputs": [
        {
          "output_type": "stream",
          "text": [
            "Você ganhou!\n"
          ],
          "name": "stdout"
        }
      ]
    },
    {
      "cell_type": "code",
      "metadata": {
        "colab": {
          "base_uri": "https://localhost:8080/"
        },
        "id": "sZlwY8Xxo_nS",
        "outputId": "0c12f859-6378-4cd8-f51f-443657e8bd93"
      },
      "source": [
        "nome = 'felipe'\r\n",
        "sobrenome = 'cabrera'\r\n",
        "idade = 24\r\n",
        "\r\n",
        "if nome =='felipe' and sobrenome == 'cabrera' and idade == 24:\r\n",
        "  print('É o felipe cabrera da bylearn')\r\n",
        "else:\r\n",
        "  print('É outra pessoa')"
      ],
      "execution_count": 9,
      "outputs": [
        {
          "output_type": "stream",
          "text": [
            "É o felipe cabrera da bylearn\n"
          ],
          "name": "stdout"
        }
      ]
    },
    {
      "cell_type": "code",
      "metadata": {
        "colab": {
          "base_uri": "https://localhost:8080/"
        },
        "id": "LAS2X8p7uMSo",
        "outputId": "a77098ba-a49a-4dc4-80f1-1d94fab67cb5"
      },
      "source": [
        "# 1, 3 ou 5\r\n",
        "#nome = felipe\r\n",
        "\r\n",
        "nome = 'felipe'\r\n",
        "numero = 3\r\n",
        "\r\n",
        "if nome == 'felipe' and(numero == 1 or numero == 3 or numero == 5):\r\n",
        "    print('O felipe escolheu o numero certo')\r\n",
        "else:\r\n",
        "    print('Erro!')    "
      ],
      "execution_count": 10,
      "outputs": [
        {
          "output_type": "stream",
          "text": [
            "O felipe escolheu o numero certo\n"
          ],
          "name": "stdout"
        }
      ]
    },
    {
      "cell_type": "code",
      "metadata": {
        "colab": {
          "base_uri": "https://localhost:8080/"
        },
        "id": "as2f6nH_v2K1",
        "outputId": "49cdf466-3796-4841-e112-268d89940d93"
      },
      "source": [
        "numeros_aceitos = [1, 3, 5, 7, 9]\r\n",
        "\r\n",
        "numero = 6\r\n",
        "\r\n",
        "if numero in numeros_aceitos:\r\n",
        "    print('Você ganhou!')\r\n",
        "else: \r\n",
        "    print('Você perdeu!')"
      ],
      "execution_count": 11,
      "outputs": [
        {
          "output_type": "stream",
          "text": [
            "Você perdeu!\n"
          ],
          "name": "stdout"
        }
      ]
    },
    {
      "cell_type": "code",
      "metadata": {
        "colab": {
          "base_uri": "https://localhost:8080/"
        },
        "id": "MuPpOO4RyHqo",
        "outputId": "134d3d39-41e6-4219-b71a-2b2e0be63d6e"
      },
      "source": [
        "nome = 'felipe'\r\n",
        "sobrenome = 'cabrera'\r\n",
        "idade = 24\r\n",
        "\r\n",
        "if nome.lower =='felipe' and sobrenome.lower == 'cabrera' and idade == 24:\r\n",
        "  print('É o felipe cabrera da bylearn')\r\n",
        "else:\r\n",
        "  print('É outra pessoa')"
      ],
      "execution_count": 18,
      "outputs": [
        {
          "output_type": "stream",
          "text": [
            "É outra pessoa\n"
          ],
          "name": "stdout"
        }
      ]
    },
    {
      "cell_type": "code",
      "metadata": {
        "colab": {
          "base_uri": "https://localhost:8080/"
        },
        "id": "ZNmVRzKQyh2a",
        "outputId": "493aa39b-c7aa-4598-c460-685fe7993cba"
      },
      "source": [
        "def numero_quadrado(numero):\r\n",
        "  quadrado = numero * numero\r\n",
        "  return quadrado\r\n",
        "\r\n",
        "def imc(peso, altura):\r\n",
        "  altura_quadrada = altura ** 2\r\n",
        "  meu_imc = peso / altura_quadrada\r\n",
        "  print(f'O meu imc é {meu_imc:.2f}') \r\n",
        "  return meu_imc\r\n",
        "\r\n",
        "meu_imc = imc(66, 1.75)\r\n",
        "  "
      ],
      "execution_count": 33,
      "outputs": [
        {
          "output_type": "stream",
          "text": [
            "O meu imc é 21.55\n"
          ],
          "name": "stdout"
        }
      ]
    },
    {
      "cell_type": "code",
      "metadata": {
        "colab": {
          "base_uri": "https://localhost:8080/"
        },
        "id": "ywvSgR61ZiOg",
        "outputId": "3524ccc2-e676-4b56-de8e-74ab97ff83b3"
      },
      "source": [
        "imc_katia = imc(70, 1.70)\r\n",
        " "
      ],
      "execution_count": 34,
      "outputs": [
        {
          "output_type": "stream",
          "text": [
            "O meu imc é 24.22\n"
          ],
          "name": "stdout"
        }
      ]
    },
    {
      "cell_type": "code",
      "metadata": {
        "colab": {
          "base_uri": "https://localhost:8080/"
        },
        "id": "hyZhQryObfvW",
        "outputId": "072d40c8-9411-49e0-dff1-f231f070d1c4"
      },
      "source": [
        "imc_sidney = imc(84, 1.70)"
      ],
      "execution_count": 35,
      "outputs": [
        {
          "output_type": "stream",
          "text": [
            "O meu imc é 29.07\n"
          ],
          "name": "stdout"
        }
      ]
    },
    {
      "cell_type": "code",
      "metadata": {
        "id": "cU3BvPWccmIj"
      },
      "source": [
        ""
      ],
      "execution_count": null,
      "outputs": []
    }
  ]
}